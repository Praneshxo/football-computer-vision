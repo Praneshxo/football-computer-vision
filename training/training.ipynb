{
  "cells": [
    {
      "cell_type": "markdown",
      "metadata": {
        "id": "view-in-github",
        "colab_type": "text"
      },
      "source": [
        "<a href=\"https://colab.research.google.com/github/Praneshxo/football-computer-vision/blob/main/training/training.ipynb\" target=\"_parent\"><img src=\"https://colab.research.google.com/assets/colab-badge.svg\" alt=\"Open In Colab\"/></a>"
      ]
    },
    {
      "cell_type": "markdown",
      "metadata": {
        "id": "GtD1WDOphFSW"
      },
      "source": [
        "# General Info\n",
        "\n",
        "Retraining the YOLO model to avoid the tracking of people that are not on the field (e.g. coaches, staff).\n",
        "\n",
        "Using the older YOLOv5 model enables better precision on ball detection.\n",
        "\n",
        "Recommendation: train on Google Colab with **GPU** for shorter training duration.\n",
        "Estimated duration: 45 mins\n",
        "\n",
        "**Download weights and insert in `models`**"
      ]
    },
    {
      "cell_type": "code",
      "execution_count": null,
      "metadata": {
        "id": "P9ezYesphFSY"
      },
      "outputs": [],
      "source": [
        "# Clean install with correct versions\n",
        "!pip uninstall -y pillow-heif roboflow\n",
        "!pip install pillow-heif==0.12.1 --no-cache-dir\n",
        "!pip install roboflow==1.1.64\n",
        "!pip install ultralytics"
      ]
    },
    {
      "cell_type": "markdown",
      "metadata": {
        "id": "sCSkF51ehFSZ"
      },
      "source": [
        "## Load Dataset\n",
        "\n",
        "Register at Roboflow for access to the API key.\n",
        "\n",
        "You will receive your key under YOLOv5 &rarr; show download code &rarr; continue\n",
        "\n",
        "https://universe.roboflow.com/roboflow-jvuqo/football-players-detection-3zvbc/dataset/1#"
      ]
    },
    {
      "cell_type": "code",
      "execution_count": null,
      "metadata": {
        "id": "CxX4Bh7ChFSa"
      },
      "outputs": [],
      "source": [
        "import os\n",
        "from dotenv import load_dotenv\n",
        "load_dotenv()\n",
        "\n",
        "# credentials from local .env file\n",
        "API_KEY = os.getenv(\"API_KEY\")"
      ]
    },
    {
      "cell_type": "code",
      "source": [
        "# 1. Uninstall any old versions first\n",
        "!pip uninstall -y pillow-heif\n",
        "!pip uninstall -y roboflow\n",
        "\n",
        "# 2. Reinstall fresh versions of pillow-heif and roboflow\n",
        "!pip install pillow-heif==0.12.0\n",
        "!pip install roboflow\n"
      ],
      "metadata": {
        "id": "20VhE26LhIse"
      },
      "execution_count": null,
      "outputs": []
    },
    {
      "cell_type": "code",
      "execution_count": null,
      "metadata": {
        "id": "2Kx0lZghhFSa"
      },
      "outputs": [],
      "source": [
        "from roboflow import Roboflow\n",
        "\n",
        "rf = Roboflow(api_key=API_KEY)\n",
        "project = rf.workspace(\"roboflow-jvuqo\").project(\"football-players-detection-3zvbc\")\n",
        "version = project.version(1)\n",
        "dataset = version.download(\"yolov5\")"
      ]
    },
    {
      "cell_type": "markdown",
      "metadata": {
        "id": "p1ouD2xZhFSb"
      },
      "source": [
        "## Adjust Directory Structure\n",
        "\n",
        "YOLO requires certain structure."
      ]
    },
    {
      "cell_type": "code",
      "execution_count": null,
      "metadata": {
        "id": "gJoEFUFKhFSb"
      },
      "outputs": [],
      "source": [
        "import shutil\n",
        "\n",
        "shutil.move(\"football-players-detection-1/train\",\n",
        "            \"football-players-detection-1/football-players-detection-1/train\"\n",
        "            )\n",
        "\n",
        "shutil.move(\"football-players-detection-1/test\",\n",
        "            \"football-players-detection-1/football-players-detection-1/test\"\n",
        "            )\n",
        "\n",
        "shutil.move(\"football-players-detection-1/valid\",\n",
        "            \"football-players-detection-1/football-players-detection-1/valid\"\n",
        "            )"
      ]
    },
    {
      "cell_type": "markdown",
      "metadata": {
        "id": "CYQI6nvkhFSc"
      },
      "source": [
        "## Training\n",
        "\n",
        "Device set to GPU training, change to CPU, Apple Silicon, ..."
      ]
    },
    {
      "cell_type": "code",
      "execution_count": null,
      "metadata": {
        "id": "mEIrgR1UhFSc"
      },
      "outputs": [],
      "source": [
        "!yolo task=detect mode=train model=yolov5s.pt data={dataset.location}/data.yaml epochs=100 imgsz=640 device=\"0\""
      ]
    }
  ],
  "metadata": {
    "kernelspec": {
      "display_name": "Python 3",
      "language": "python",
      "name": "python3"
    },
    "language_info": {
      "codemirror_mode": {
        "name": "ipython",
        "version": 3
      },
      "file_extension": ".py",
      "mimetype": "text/x-python",
      "name": "python",
      "nbconvert_exporter": "python",
      "pygments_lexer": "ipython3",
      "version": "3.11.7"
    },
    "orig_nbformat": 4,
    "colab": {
      "provenance": [],
      "include_colab_link": true
    }
  },
  "nbformat": 4,
  "nbformat_minor": 0
}